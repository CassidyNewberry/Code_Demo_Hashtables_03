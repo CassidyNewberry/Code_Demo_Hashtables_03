{
 "cells": [
  {
   "cell_type": "code",
   "execution_count": null,
   "metadata": {},
   "outputs": [],
   "source": [
    "# Creating example data\n",
    "\n",
    "name = ['James', 'Robert', 'John', 'Michael', 'William', 'David', 'Richard',\n",
    "        'Joseph', 'Patricia', 'Linda', 'Elizabeth', 'Barbara', 'Susan',\n",
    "        'Sarah', 'Karen', 'Nancy']\n",
    "numbers = [4700229, 4455696, 4453807, 2454407, 2335792, 2084043,\n",
    "           2038798, 3196385, 1558407, 1448303, 1397635, 1103569,\n",
    "           1046322, 991910, 986057, 966867]\n"
   ]
  },
  {
   "cell_type": "code",
   "execution_count": 31,
   "metadata": {},
   "outputs": [
    {
     "name": "stdout",
     "output_type": "stream",
     "text": [
      "dict_items([('James', 4700229), ('Robert', 4455696), ('John', 4453807), ('Michael', 2454407), ('William', 2335792), ('David', 2084043), ('Richard', 2038798), ('Joseph', 3196385), ('Patricia', 1558407), ('Linda', 1448303), ('Elizabeth', 1397635), ('Barbara', 1103569), ('Susan', 1046322), ('Sarah', 991910), ('Karen', 986057), ('Nancy', 966867)])\n"
     ]
    }
   ],
   "source": [
    "dict = {}\n",
    "for k, v in zip(name, numbers):\n",
    "    dict[k] = v\n",
    "print(dict.items())\n"
   ]
  },
  {
   "cell_type": "code",
   "execution_count": 32,
   "metadata": {},
   "outputs": [],
   "source": [
    "def hashcode(key):  # converts the key to integers if string\n",
    "    if type(key) == int:\n",
    "        return key  # return \n",
    "    else:\n",
    "        return abs(ord(key[0]) - ord('a'))"
   ]
  },
  {
   "cell_type": "code",
   "execution_count": 33,
   "metadata": {},
   "outputs": [
    {
     "data": {
      "text/plain": [
       "23"
      ]
     },
     "execution_count": 33,
     "metadata": {},
     "output_type": "execute_result"
    }
   ],
   "source": [
    "hashcode('James')\n"
   ]
  },
  {
   "cell_type": "code",
   "execution_count": 34,
   "metadata": {},
   "outputs": [
    {
     "data": {
      "text/plain": [
       "6"
      ]
     },
     "execution_count": 34,
     "metadata": {},
     "output_type": "execute_result"
    }
   ],
   "source": [
    "hashcode(6)\n"
   ]
  },
  {
   "cell_type": "code",
   "execution_count": 35,
   "metadata": {},
   "outputs": [],
   "source": [
    "def hashput(kv_pair, htable):  # adds a (key,value) into htable\n",
    "    key, value = kv_pair\n",
    "    index = hashcode(key) % len(htable)\n",
    "    bucket = htable[index]\n",
    "    for i in range(len(bucket)):  # for tuples in bucket[(k,v),(), ()...]\n",
    "        if bucket[i][0] == key:\n",
    "            bucket[i] = (key, value)\n",
    "            return  # if key in the bucket, then the function is done.\n",
    "        # The next line of code won't run.\n",
    "    bucket.append((key, value))\n"
   ]
  },
  {
   "cell_type": "code",
   "execution_count": 36,
   "metadata": {},
   "outputs": [],
   "source": [
    "n = 10\n",
    "table = [[] for i in range(n)]"
   ]
  },
  {
   "cell_type": "code",
   "execution_count": 37,
   "metadata": {},
   "outputs": [
    {
     "data": {
      "text/plain": [
       "[[], [], [], [], [], [], [], [], [], []]"
      ]
     },
     "execution_count": 37,
     "metadata": {},
     "output_type": "execute_result"
    }
   ],
   "source": [
    "table"
   ]
  },
  {
   "cell_type": "code",
   "execution_count": 38,
   "metadata": {},
   "outputs": [],
   "source": [
    "hashput(('James', 4700229),table)"
   ]
  },
  {
   "cell_type": "code",
   "execution_count": 39,
   "metadata": {},
   "outputs": [
    {
     "data": {
      "text/plain": [
       "[[], [], [], [('James', 4700229)], [], [], [], [], [], []]"
      ]
     },
     "execution_count": 39,
     "metadata": {},
     "output_type": "execute_result"
    }
   ],
   "source": [
    "table"
   ]
  },
  {
   "cell_type": "code",
   "execution_count": 40,
   "metadata": {},
   "outputs": [],
   "source": [
    "def hashget(key,htable):\n",
    "    index = hashcode(key)%len(htable)\n",
    "    for element in htable[index]:\n",
    "        k,v = element\n",
    "        if k == key:\n",
    "            return v\n",
    "        else:\n",
    "            continue   \n",
    "        "
   ]
  },
  {
   "cell_type": "code",
   "execution_count": 41,
   "metadata": {},
   "outputs": [],
   "source": [
    "for key, value in dict.items():\n",
    "    hashput((key, value),table)"
   ]
  },
  {
   "cell_type": "code",
   "execution_count": 42,
   "metadata": {},
   "outputs": [
    {
     "data": {
      "text/plain": [
       "[[('Michael', 2454407), ('William', 2335792)],\n",
       " [('Linda', 1448303), ('Barbara', 1103569)],\n",
       " [('Karen', 986057)],\n",
       " [('James', 4700229), ('John', 4453807), ('Joseph', 3196385)],\n",
       " [('Susan', 1046322), ('Sarah', 991910)],\n",
       " [('Robert', 4455696), ('Richard', 2038798)],\n",
       " [],\n",
       " [('Patricia', 1558407)],\n",
       " [('Elizabeth', 1397635)],\n",
       " [('David', 2084043), ('Nancy', 966867)]]"
      ]
     },
     "execution_count": 42,
     "metadata": {},
     "output_type": "execute_result"
    }
   ],
   "source": [
    "table"
   ]
  },
  {
   "cell_type": "code",
   "execution_count": 45,
   "metadata": {},
   "outputs": [
    {
     "data": {
      "text/plain": [
       "1558407"
      ]
     },
     "execution_count": 45,
     "metadata": {},
     "output_type": "execute_result"
    }
   ],
   "source": [
    "hashget('Patricia',table)\n"
   ]
  },
  {
   "cell_type": "code",
   "execution_count": 47,
   "metadata": {},
   "outputs": [],
   "source": [
    "#Benefit of Hashtables\n",
    "linear_list = []\n",
    "\n",
    "for k,v in zip(name,numbers):\n",
    "    linear_list.append((k,v))\n",
    "    \n",
    "def linear_search(key,linlist):\n",
    "    for element in linlist:\n",
    "        k,v = element\n",
    "        if k == key:\n",
    "            return v\n",
    " "
   ]
  },
  {
   "cell_type": "code",
   "execution_count": 55,
   "metadata": {},
   "outputs": [
    {
     "name": "stdout",
     "output_type": "stream",
     "text": [
      "CPU times: user 11 µs, sys: 1 µs, total: 12 µs\n",
      "Wall time: 15.3 µs\n"
     ]
    },
    {
     "data": {
      "text/plain": [
       "966867"
      ]
     },
     "execution_count": 55,
     "metadata": {},
     "output_type": "execute_result"
    }
   ],
   "source": [
    "%time hashget('Nancy',table)"
   ]
  },
  {
   "cell_type": "code",
   "execution_count": 54,
   "metadata": {},
   "outputs": [
    {
     "name": "stdout",
     "output_type": "stream",
     "text": [
      "CPU times: user 22 µs, sys: 0 ns, total: 22 µs\n",
      "Wall time: 25.7 µs\n"
     ]
    },
    {
     "data": {
      "text/plain": [
       "966867"
      ]
     },
     "execution_count": 54,
     "metadata": {},
     "output_type": "execute_result"
    }
   ],
   "source": [
    "%time linear_search('Nancy',linear_list)"
   ]
  },
  {
   "cell_type": "code",
   "execution_count": null,
   "metadata": {},
   "outputs": [],
   "source": []
  }
 ],
 "metadata": {
  "interpreter": {
   "hash": "1488d65dab15297e9c5ded66edcb8fe43fc4df415f982991a6b68f87cde694ee"
  },
  "kernelspec": {
   "display_name": "Python 3 (ipykernel)",
   "language": "python",
   "name": "python3"
  },
  "language_info": {
   "codemirror_mode": {
    "name": "ipython",
    "version": 3
   },
   "file_extension": ".py",
   "mimetype": "text/x-python",
   "name": "python",
   "nbconvert_exporter": "python",
   "pygments_lexer": "ipython3",
   "version": "3.8.11"
  }
 },
 "nbformat": 4,
 "nbformat_minor": 4
}
