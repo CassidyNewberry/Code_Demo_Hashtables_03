{
 "cells": [
  {
   "cell_type": "code",
   "execution_count": 1,
   "metadata": {},
   "outputs": [],
   "source": [
    "# Creating example data\n",
    "\n",
    "name = ['James', 'Robert', 'John', 'Michael', 'William', 'David', 'Richard',\n",
    "        'Joseph', 'Patricia', 'Linda', 'Elizabeth', 'Barbara', 'Susan',\n",
    "        'Sarah', 'Karen', 'Nancy']\n",
    "numbers = [4700229, 4455696, 4453807, 2454407, 2335792, 2084043,\n",
    "           2038798, 3196385, 1558407, 1448303, 1397635, 1103569,\n",
    "           1046322, 991910, 986057, 966867]\n"
   ]
  },
  {
   "cell_type": "code",
   "execution_count": 2,
   "metadata": {},
   "outputs": [
    {
     "name": "stdout",
     "output_type": "stream",
     "text": [
      "dict_items([('James', 4700229), ('Robert', 4455696), ('John', 4453807), ('Michael', 2454407), ('William', 2335792), ('David', 2084043), ('Richard', 2038798), ('Joseph', 3196385), ('Patricia', 1558407), ('Linda', 1448303), ('Elizabeth', 1397635), ('Barbara', 1103569), ('Susan', 1046322), ('Sarah', 991910), ('Karen', 986057), ('Nancy', 966867)])\n"
     ]
    }
   ],
   "source": [
    "dict = {}\n",
    "for k, v in zip(name, numbers):\n",
    "    dict[k] = v\n",
    "print(dict.items())\n"
   ]
  },
  {
   "cell_type": "code",
   "execution_count": 3,
   "metadata": {},
   "outputs": [],
   "source": [
    "def hashcode(key):\n",
    "    if type(key) == int:\n",
    "        return key\n",
    "    else:\n",
    "        return abs(ord(key[0]) - ord('a'))"
   ]
  },
  {
   "cell_type": "code",
   "execution_count": 4,
   "metadata": {},
   "outputs": [
    {
     "data": {
      "text/plain": [
       "23"
      ]
     },
     "execution_count": 4,
     "metadata": {},
     "output_type": "execute_result"
    }
   ],
   "source": [
    "hashcode('James')\n"
   ]
  },
  {
   "cell_type": "code",
   "execution_count": 5,
   "metadata": {},
   "outputs": [
    {
     "data": {
      "text/plain": [
       "6"
      ]
     },
     "execution_count": 5,
     "metadata": {},
     "output_type": "execute_result"
    }
   ],
   "source": [
    "hashcode(6)\n"
   ]
  },
  {
   "cell_type": "code",
   "execution_count": 7,
   "metadata": {},
   "outputs": [],
   "source": [
    "def hashput(kv_pair, htable): # adds a (key,value) into htable\n",
    "    key,value = kv_pair    \n",
    "    index = hashcode(key) % len(htable)\n",
    "    bucket= htable[index]\n",
    "    for i in range(len(bucket)): #for tuples in bucket[(k,v),(), ()...]\n",
    "        if bucket[i][0] == key:\n",
    "            bucket[i] = (key, value)\n",
    "            return #if key in the bucket, then the function is done. the next line of code won't run\n",
    "    bucket.append((key, value))"
   ]
  },
  {
   "cell_type": "code",
   "execution_count": 14,
   "metadata": {},
   "outputs": [],
   "source": [
    "n = 10\n",
    "table = [[] for i in range(n)]"
   ]
  },
  {
   "cell_type": "code",
   "execution_count": 15,
   "metadata": {},
   "outputs": [
    {
     "data": {
      "text/plain": [
       "[[], [], [], [], [], [], [], [], [], []]"
      ]
     },
     "execution_count": 15,
     "metadata": {},
     "output_type": "execute_result"
    }
   ],
   "source": [
    "table"
   ]
  },
  {
   "cell_type": "code",
   "execution_count": 16,
   "metadata": {},
   "outputs": [],
   "source": [
    "hashput(('James', 4700229),table)"
   ]
  },
  {
   "cell_type": "code",
   "execution_count": 17,
   "metadata": {},
   "outputs": [
    {
     "data": {
      "text/plain": [
       "[[], [], [], [('James', 4700229)], [], [], [], [], [], []]"
      ]
     },
     "execution_count": 17,
     "metadata": {},
     "output_type": "execute_result"
    }
   ],
   "source": [
    "table"
   ]
  },
  {
   "cell_type": "code",
   "execution_count": 9,
   "metadata": {},
   "outputs": [],
   "source": [
    "def hashget(key,htable):\n",
    "    index = hashcode(key)%len(htable)\n",
    "    for element in htable[index]:\n",
    "        k,v = element\n",
    "        if k == key:\n",
    "            return v\n",
    "        else:\n",
    "            continue   \n",
    "        "
   ]
  },
  {
   "cell_type": "code",
   "execution_count": 10,
   "metadata": {},
   "outputs": [],
   "source": [
    "n = 10\n",
    "table = [[] for i in range(n)]"
   ]
  },
  {
   "cell_type": "code",
   "execution_count": 11,
   "metadata": {},
   "outputs": [],
   "source": []
  },
  {
   "cell_type": "code",
   "execution_count": 12,
   "metadata": {},
   "outputs": [
    {
     "data": {
      "text/plain": [
       "[[('Michael', 3564276), ('William', 2454407)],\n",
       " [('Linda', 1448303), ('Barbara', 1397635)],\n",
       " [('Karen', 986057)],\n",
       " [('James', 4700229),\n",
       "  ('John', 4453807),\n",
       "  ('Joseph', 2084043),\n",
       "  ('Thomas', 2038798),\n",
       "  ('Jennifer', 1558407),\n",
       "  ('Jessica', 1046322)],\n",
       " [('Susan', 1103569), ('Sarah', 991910)],\n",
       " [('Robert', 4455696), ('Richard', 2151864)],\n",
       " [],\n",
       " [('Patricia', 3196385)],\n",
       " [('Elizabeth', 1420377)],\n",
       " [('David', 2335792), ('Nancy', 966867)]]"
      ]
     },
     "execution_count": 12,
     "metadata": {},
     "output_type": "execute_result"
    }
   ],
   "source": [
    "table"
   ]
  },
  {
   "cell_type": "code",
   "execution_count": 13,
   "metadata": {},
   "outputs": [],
   "source": [
    "hashput(('Michael',0),table)"
   ]
  },
  {
   "cell_type": "code",
   "execution_count": 10,
   "metadata": {},
   "outputs": [
    {
     "data": {
      "text/plain": [
       "1558407"
      ]
     },
     "execution_count": 10,
     "metadata": {},
     "output_type": "execute_result"
    }
   ],
   "source": [
    "hashget('Patricia',table)\n"
   ]
  },
  {
   "cell_type": "code",
   "execution_count": 11,
   "metadata": {},
   "outputs": [
    {
     "data": {
      "text/plain": [
       "[[('Michael', 0),\n",
       "  ('William', 3564276),\n",
       "  ('Charles', 2084043),\n",
       "  ('Christopher', 2038798),\n",
       "  ('Mary', 3196385)],\n",
       " [('Linda', 1448303), ('Barbara', 1397635)],\n",
       " [('Karen', 986057)],\n",
       " [('James', 4700229),\n",
       "  ('John', 4453807),\n",
       "  ('Joseph', 2335792),\n",
       "  ('Thomas', 2151864),\n",
       "  ('Jennifer', 1468377),\n",
       "  ('Jessica', 1046322)],\n",
       " [('Susan', 1103569), ('Sarah', 991910)],\n",
       " [('Robert', 4455696), ('Richard', 2454407)],\n",
       " [],\n",
       " [('Patricia', 1558407)],\n",
       " [('Elizabeth', 1420377)],\n",
       " [('David', 3564053), ('Nancy', 966867)]]"
      ]
     },
     "execution_count": 11,
     "metadata": {},
     "output_type": "execute_result"
    }
   ],
   "source": [
    "table"
   ]
  },
  {
   "cell_type": "code",
   "execution_count": null,
   "metadata": {},
   "outputs": [],
   "source": []
  },
  {
   "cell_type": "code",
   "execution_count": null,
   "metadata": {},
   "outputs": [],
   "source": []
  }
 ],
 "metadata": {
  "interpreter": {
   "hash": "1488d65dab15297e9c5ded66edcb8fe43fc4df415f982991a6b68f87cde694ee"
  },
  "kernelspec": {
   "display_name": "Python 3",
   "language": "python",
   "name": "python3"
  },
  "language_info": {
   "codemirror_mode": {
    "name": "ipython",
    "version": 3
   },
   "file_extension": ".py",
   "mimetype": "text/x-python",
   "name": "python",
   "nbconvert_exporter": "python",
   "pygments_lexer": "ipython3",
   "version": "3.7.3"
  }
 },
 "nbformat": 4,
 "nbformat_minor": 4
}
