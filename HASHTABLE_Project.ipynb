{
 "cells": [
  {
   "cell_type": "markdown",
   "metadata": {},
   "source": [
    "<b><h2>HASH TABLES</h2></b>"
   ]
  },
  {
   "cell_type": "code",
   "execution_count": 1,
   "metadata": {},
   "outputs": [],
   "source": [
    "# Creating example data\n",
    "\n",
    "name = ['James', 'Robert', 'John', 'Michael', 'William', 'David', 'Richard',\n",
    "        'Joseph', 'Patricia', 'Linda', 'Elizabeth', 'Barbara', 'Susan',\n",
    "        'Sarah', 'Karen', 'Nancy']\n",
    "numbers = [4700229, 4455696, 4453807, 2454407, 2335792, 2084043,\n",
    "           2038798, 3196385, 1558407, 1448303, 1397635, 1103569,\n",
    "           1046322, 991910, 986057, 966867]\n"
   ]
  },
  {
   "cell_type": "code",
   "execution_count": 2,
   "metadata": {},
   "outputs": [
    {
     "name": "stdout",
     "output_type": "stream",
     "text": [
      "('James', 4700229)\n",
      "('Robert', 4455696)\n",
      "('John', 4453807)\n",
      "('Michael', 2454407)\n",
      "('William', 2335792)\n",
      "('David', 2084043)\n",
      "('Richard', 2038798)\n",
      "('Joseph', 3196385)\n",
      "('Patricia', 1558407)\n",
      "('Linda', 1448303)\n",
      "('Elizabeth', 1397635)\n",
      "('Barbara', 1103569)\n",
      "('Susan', 1046322)\n",
      "('Sarah', 991910)\n",
      "('Karen', 986057)\n",
      "('Nancy', 966867)\n"
     ]
    }
   ],
   "source": [
    "dict = {}\n",
    "for k, v in zip(name, numbers):\n",
    "    dict[k] = v\n",
    "for ele in dict.items():\n",
    "    print(ele)\n"
   ]
  },
  {
   "cell_type": "code",
   "execution_count": 3,
   "metadata": {},
   "outputs": [],
   "source": [
    "def hashcode(key):  # converts the key to integers if string\n",
    "    if type(key) == int:\n",
    "        return key  # return the same integer\n",
    "    else:\n",
    "        return abs(ord(key[0]) - ord('a'))  # return the unicode\n"
   ]
  },
  {
   "cell_type": "code",
   "execution_count": 4,
   "metadata": {},
   "outputs": [
    {
     "data": {
      "text/plain": [
       "23"
      ]
     },
     "execution_count": 4,
     "metadata": {},
     "output_type": "execute_result"
    }
   ],
   "source": [
    "hashcode('James')  # converts the key to integer\n"
   ]
  },
  {
   "cell_type": "code",
   "execution_count": 5,
   "metadata": {},
   "outputs": [
    {
     "data": {
      "text/plain": [
       "6"
      ]
     },
     "execution_count": 5,
     "metadata": {},
     "output_type": "execute_result"
    }
   ],
   "source": [
    "hashcode(6)  # returns the same integer\n"
   ]
  },
  {
   "cell_type": "code",
   "execution_count": 6,
   "metadata": {},
   "outputs": [],
   "source": [
    "def hashput(kv_pair, htable):  # adds a (key,value) into htable\n",
    "    key, value = kv_pair\n",
    "    index = hashcode(key) % len(htable)\n",
    "    bucket = htable[index]\n",
    "\n",
    "    for i in range(len(bucket)):  # for tuples in bucket[(k,v),(), ()...]\n",
    "        if bucket[i][0] == key:\n",
    "            bucket[i] = (key, value)\n",
    "            return  # if key is in the bucket, then the function is done\n",
    "    bucket.append((key, value))\n"
   ]
  },
  {
   "cell_type": "code",
   "execution_count": 7,
   "metadata": {},
   "outputs": [],
   "source": [
    "n = 10  # number of partitions/buckets to create\n",
    "table = [[] for i in range(n)]  # a hash table with n number of empty buckets\n"
   ]
  },
  {
   "cell_type": "code",
   "execution_count": 8,
   "metadata": {},
   "outputs": [
    {
     "data": {
      "text/plain": [
       "[[], [], [], [], [], [], [], [], [], []]"
      ]
     },
     "execution_count": 8,
     "metadata": {},
     "output_type": "execute_result"
    }
   ],
   "source": [
    "table  # empty table\n"
   ]
  },
  {
   "cell_type": "code",
   "execution_count": 9,
   "metadata": {},
   "outputs": [],
   "source": [
    "hashput(('James', 4700229), table)\n"
   ]
  },
  {
   "cell_type": "code",
   "execution_count": 10,
   "metadata": {},
   "outputs": [
    {
     "data": {
      "text/plain": [
       "[[], [], [], [('James', 4700229)], [], [], [], [], [], []]"
      ]
     },
     "execution_count": 10,
     "metadata": {},
     "output_type": "execute_result"
    }
   ],
   "source": [
    "table  # As 'James' gets value 23 from hashcode function -> 23 % 10 = 3\n"
   ]
  },
  {
   "cell_type": "code",
   "execution_count": 11,
   "metadata": {},
   "outputs": [],
   "source": [
    "def hashget(key, htable):\n",
    "    index = hashcode(key) % len(htable)\n",
    "    for element in htable[index]:\n",
    "        k, v = element\n",
    "        if k == key:\n",
    "            return v\n",
    "        else:\n",
    "            continue\n"
   ]
  },
  {
   "cell_type": "code",
   "execution_count": 12,
   "metadata": {},
   "outputs": [],
   "source": [
    "for key, value in dict.items():\n",
    "    hashput((key, value), table)  # putting each key, value pair in hashtable\n"
   ]
  },
  {
   "cell_type": "code",
   "execution_count": 13,
   "metadata": {},
   "outputs": [
    {
     "data": {
      "text/plain": [
       "[[('Michael', 2454407), ('William', 2335792)],\n",
       " [('Linda', 1448303), ('Barbara', 1103569)],\n",
       " [('Karen', 986057)],\n",
       " [('James', 4700229), ('John', 4453807), ('Joseph', 3196385)],\n",
       " [('Susan', 1046322), ('Sarah', 991910)],\n",
       " [('Robert', 4455696), ('Richard', 2038798)],\n",
       " [],\n",
       " [('Patricia', 1558407)],\n",
       " [('Elizabeth', 1397635)],\n",
       " [('David', 2084043), ('Nancy', 966867)]]"
      ]
     },
     "execution_count": 13,
     "metadata": {},
     "output_type": "execute_result"
    }
   ],
   "source": [
    "table\n"
   ]
  },
  {
   "cell_type": "code",
   "execution_count": 14,
   "metadata": {},
   "outputs": [
    {
     "data": {
      "text/plain": [
       "1558407"
      ]
     },
     "execution_count": 14,
     "metadata": {},
     "output_type": "execute_result"
    }
   ],
   "source": [
    "hashget('Patricia', table)  # searching for the key = 'Patricia'\n"
   ]
  },
  {
   "cell_type": "markdown",
   "metadata": {},
   "source": [
    "<b>Benefit of Hashtables</b>"
   ]
  },
  {
   "cell_type": "code",
   "execution_count": 15,
   "metadata": {},
   "outputs": [],
   "source": [
    "linear_list = []\n",
    "\n",
    "for k, v in zip(name, numbers):\n",
    "    linear_list.append((k, v))\n",
    "\n",
    "\n",
    "def linear_search(key, linlist):\n",
    "    for element in linlist:\n",
    "        k, v = element\n",
    "        if k == key:\n",
    "            return v\n"
   ]
  },
  {
   "cell_type": "code",
   "execution_count": 25,
   "metadata": {},
   "outputs": [
    {
     "name": "stdout",
     "output_type": "stream",
     "text": [
      "443 ns ± 0.455 ns per loop (mean ± std. dev. of 7 runs, 1000000 loops each)\n"
     ]
    }
   ],
   "source": [
    "%timeit hashget('Nancy', table)\n"
   ]
  },
  {
   "cell_type": "code",
   "execution_count": 26,
   "metadata": {},
   "outputs": [
    {
     "name": "stdout",
     "output_type": "stream",
     "text": [
      "709 ns ± 1.64 ns per loop (mean ± std. dev. of 7 runs, 1000000 loops each)\n"
     ]
    }
   ],
   "source": [
    "%timeit linear_search('Nancy', linear_list)\n"
   ]
  },
  {
   "cell_type": "code",
   "execution_count": null,
   "metadata": {},
   "outputs": [],
   "source": []
  }
 ],
 "metadata": {
  "interpreter": {
   "hash": "1488d65dab15297e9c5ded66edcb8fe43fc4df415f982991a6b68f87cde694ee"
  },
  "kernelspec": {
   "display_name": "Python 3 (ipykernel)",
   "language": "python",
   "name": "python3"
  },
  "language_info": {
   "codemirror_mode": {
    "name": "ipython",
    "version": 3
   },
   "file_extension": ".py",
   "mimetype": "text/x-python",
   "name": "python",
   "nbconvert_exporter": "python",
   "pygments_lexer": "ipython3",
   "version": "3.8.11"
  }
 },
 "nbformat": 4,
 "nbformat_minor": 4
}
