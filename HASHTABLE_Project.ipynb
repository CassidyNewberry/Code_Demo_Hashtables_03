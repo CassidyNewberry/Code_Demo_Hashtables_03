{
 "cells": [
  {
   "cell_type": "markdown",
   "metadata": {},
   "source": [
    "<b><h2>HASH TABLES</h2></b>"
   ]
  },
  {
   "cell_type": "code",
   "execution_count": 18,
   "metadata": {},
   "outputs": [],
   "source": [
    "# Creating example data\n",
    "\n",
    "name = ['James', 'Robert', 'John', 'Michael', 'William', 'David', 'Richard',\n",
    "        'Joseph', 'Patricia', 'Linda', 'Elizabeth', 'Barbara', 'Susan',\n",
    "        'Sarah', 'Karen', 'Nancy']\n",
    "numbers = [4700229, 4455696, 4453807, 2454407, 2335792, 2084043,\n",
    "           2038798, 3196385, 1558407, 1448303, 1397635, 1103569,\n",
    "           1046322, 991910, 986057, 966867]\n"
   ]
  },
  {
   "cell_type": "code",
   "execution_count": 2,
   "metadata": {},
   "outputs": [
    {
     "name": "stdout",
     "output_type": "stream",
     "text": [
      "dict_items([('James', 4700229), ('Robert', 4455696), ('John', 4453807), ('Michael', 2454407), ('William', 2335792), ('David', 2084043), ('Richard', 2038798), ('Joseph', 3196385), ('Patricia', 1558407), ('Linda', 1448303), ('Elizabeth', 1397635), ('Barbara', 1103569), ('Susan', 1046322), ('Sarah', 991910), ('Karen', 986057), ('Nancy', 966867)])\n"
     ]
    }
   ],
   "source": [
    "dict = {}\n",
    "for k, v in zip(name, numbers):\n",
    "    dict[k] = v\n",
    "print(dict.items())\n"
   ]
  },
  {
   "cell_type": "code",
   "execution_count": 3,
   "metadata": {},
   "outputs": [],
   "source": [
    "def hashcode(key):  # converts the key to integers if string\n",
    "    if type(key) == int:\n",
    "        return key  # return the same integer\n",
    "    else:\n",
    "        return abs(ord(key[0]) - ord('a'))  # return the unicode\n"
   ]
  },
  {
   "cell_type": "code",
   "execution_count": 4,
   "metadata": {},
   "outputs": [
    {
     "data": {
      "text/plain": [
       "23"
      ]
     },
     "execution_count": 4,
     "metadata": {},
     "output_type": "execute_result"
    }
   ],
   "source": [
    "hashcode('James')  # converts the key to integer\n"
   ]
  },
  {
   "cell_type": "code",
   "execution_count": 5,
   "metadata": {},
   "outputs": [
    {
     "data": {
      "text/plain": [
       "6"
      ]
     },
     "execution_count": 5,
     "metadata": {},
     "output_type": "execute_result"
    }
   ],
   "source": [
    "hashcode(6)  # returns the same integer\n"
   ]
  },
  {
   "cell_type": "code",
   "execution_count": 6,
   "metadata": {},
   "outputs": [],
   "source": [
    "def hashput(kv_pair, htable):  # adds a (key,value) into htable\n",
    "    key, value = kv_pair\n",
    "    index = hashcode(key) % len(htable)\n",
    "    bucket = htable[index]\n",
    "\n",
    "    for i in range(len(bucket)):  # for tuples in bucket[(k,v),(), ()...]\n",
    "        if bucket[i][0] == key:\n",
    "            bucket[i] = (key, value)\n",
    "            return  # if key is in the bucket, then the function is done\n",
    "    bucket.append((key, value))\n"
   ]
  },
  {
   "cell_type": "code",
   "execution_count": 7,
   "metadata": {},
   "outputs": [],
   "source": [
    "n = 10  # number of partitions/buckets to create\n",
    "table = [[] for i in range(n)]  # a hash table with n number of empty buckets\n"
   ]
  },
  {
   "cell_type": "code",
   "execution_count": 8,
   "metadata": {},
   "outputs": [
    {
     "data": {
      "text/plain": [
       "[[], [], [], [], [], [], [], [], [], []]"
      ]
     },
     "execution_count": 8,
     "metadata": {},
     "output_type": "execute_result"
    }
   ],
   "source": [
    "table  # empty table\n"
   ]
  },
  {
   "cell_type": "code",
   "execution_count": 9,
   "metadata": {},
   "outputs": [],
   "source": [
    "hashput(('James', 4700229), table)\n"
   ]
  },
  {
   "cell_type": "code",
   "execution_count": 10,
   "metadata": {},
   "outputs": [
    {
     "data": {
      "text/plain": [
       "[[], [], [], [('James', 4700229)], [], [], [], [], [], []]"
      ]
     },
     "execution_count": 10,
     "metadata": {},
     "output_type": "execute_result"
    }
   ],
   "source": [
    "table  # As 'James' gets value 23 from hashcode function -> 23 % 10 = 3\n"
   ]
  },
  {
   "cell_type": "code",
   "execution_count": 11,
   "metadata": {},
   "outputs": [],
   "source": [
    "def hashget(key, htable):\n",
    "    index = hashcode(key) % len(htable)\n",
    "    for element in htable[index]:\n",
    "        k, v = element\n",
    "        if k == key:\n",
    "            return v\n",
    "        else:\n",
    "            continue\n"
   ]
  },
  {
   "cell_type": "code",
   "execution_count": 12,
   "metadata": {},
   "outputs": [],
   "source": [
    "for key, value in dict.items():\n",
    "    hashput((key, value), table)  # putting each key, value pair in hashtable\n"
   ]
  },
  {
   "cell_type": "code",
   "execution_count": 13,
   "metadata": {},
   "outputs": [
    {
     "data": {
      "text/plain": [
       "[[('Michael', 2454407), ('William', 2335792)],\n",
       " [('Linda', 1448303), ('Barbara', 1103569)],\n",
       " [('Karen', 986057)],\n",
       " [('James', 4700229), ('John', 4453807), ('Joseph', 3196385)],\n",
       " [('Susan', 1046322), ('Sarah', 991910)],\n",
       " [('Robert', 4455696), ('Richard', 2038798)],\n",
       " [],\n",
       " [('Patricia', 1558407)],\n",
       " [('Elizabeth', 1397635)],\n",
       " [('David', 2084043), ('Nancy', 966867)]]"
      ]
     },
     "execution_count": 13,
     "metadata": {},
     "output_type": "execute_result"
    }
   ],
   "source": [
    "table\n"
   ]
  },
  {
   "cell_type": "code",
   "execution_count": 14,
   "metadata": {},
   "outputs": [
    {
     "data": {
      "text/plain": [
       "1558407"
      ]
     },
     "execution_count": 14,
     "metadata": {},
     "output_type": "execute_result"
    }
   ],
   "source": [
    "hashget('Patricia', table)  # searching for the key = 'Patricia'\n"
   ]
  },
  {
   "cell_type": "markdown",
   "metadata": {},
   "source": [
    "<b>Benefit of Hashtables</b>"
   ]
  },
  {
   "cell_type": "code",
   "execution_count": 15,
   "metadata": {},
   "outputs": [],
   "source": [
    "linear_list = []\n",
    "\n",
    "for k, v in zip(name, numbers):\n",
    "    linear_list.append((k, v))\n",
    "\n",
    "\n",
    "def linear_search(key, linlist):\n",
    "    for element in linlist:\n",
    "        k, v = element\n",
    "        if k == key:\n",
    "            return v\n"
   ]
  },
  {
   "cell_type": "code",
   "execution_count": 16,
   "metadata": {},
   "outputs": [
    {
     "name": "stdout",
     "output_type": "stream",
     "text": [
      "CPU times: user 4 µs, sys: 1 µs, total: 5 µs\n",
      "Wall time: 6.91 µs\n"
     ]
    },
    {
     "data": {
      "text/plain": [
       "966867"
      ]
     },
     "execution_count": 16,
     "metadata": {},
     "output_type": "execute_result"
    }
   ],
   "source": [
    "%time hashget('Nancy', table)\n"
   ]
  },
  {
   "cell_type": "code",
   "execution_count": 17,
   "metadata": {},
   "outputs": [
    {
     "name": "stdout",
     "output_type": "stream",
     "text": [
      "CPU times: user 3 µs, sys: 0 ns, total: 3 µs\n",
      "Wall time: 5.01 µs\n"
     ]
    },
    {
     "data": {
      "text/plain": [
       "966867"
      ]
     },
     "execution_count": 17,
     "metadata": {},
     "output_type": "execute_result"
    }
   ],
   "source": [
    "%time linear_search('Nancy', linear_list)\n"
   ]
  }
 ],
 "metadata": {
  "interpreter": {
   "hash": "1488d65dab15297e9c5ded66edcb8fe43fc4df415f982991a6b68f87cde694ee"
  },
  "kernelspec": {
   "display_name": "Python 3 (ipykernel)",
   "language": "python",
   "name": "python3"
  },
  "language_info": {
   "codemirror_mode": {
    "name": "ipython",
    "version": 3
   },
   "file_extension": ".py",
   "mimetype": "text/x-python",
   "name": "python",
   "nbconvert_exporter": "python",
   "pygments_lexer": "ipython3",
   "version": "3.8.11"
  }
 },
 "nbformat": 4,
 "nbformat_minor": 4
}
