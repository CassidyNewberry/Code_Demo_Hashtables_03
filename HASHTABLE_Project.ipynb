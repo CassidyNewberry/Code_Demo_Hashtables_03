{
 "cells": [
  {
   "cell_type": "code",
   "execution_count": 1,
   "metadata": {},
   "outputs": [],
   "source": [
    "name = ['James','Robert','John','Michael','William','David','Richard','Joseph','Thomas','Charles','Christopher','Mary','Patricia','Jennifer','Linda','Elizabeth','Barbara','Susan','Jessica','Sarah','Karen','Nancy']\n",
    "numbers = [4700229,4455696,4453807,4335919,3564276,3564053,2454407,2335792,2151864,2084043,2038798,3196385,1558407,1468377,1448303,1420377,1397635,1103569,1046322,991910,986057,966867]"
   ]
  },
  {
   "cell_type": "code",
   "execution_count": 2,
   "metadata": {},
   "outputs": [],
   "source": [
    "def hashcode(key):\n",
    "    if type(key) == int:\n",
    "        return key\n",
    "    else:\n",
    "        return abs(ord(key[0]) - ord('a'))"
   ]
  },
  {
   "cell_type": "code",
   "execution_count": 4,
   "metadata": {},
   "outputs": [],
   "source": [
    "def hashput(kv_pair, htable): # adds a (key,value) into htable\n",
    "    key,value = kv_pair    \n",
    "    index = hashcode(key) % len(htable)\n",
    "    bucket= htable[index]\n",
    "    for i in range(len(bucket)): #for tuples in bucket[(k,v),(), ()...]\n",
    "        if bucket[i][0] == key:\n",
    "            bucket[i] = (key, value)\n",
    "            return #if key in the bucket, then the function is done. the next line of code won't run\n",
    "    bucket.append((key, value))"
   ]
  },
  {
   "cell_type": "code",
   "execution_count": null,
   "metadata": {},
   "outputs": [],
   "source": [
    "def hashput(kv_pair, htable): # adds a (key,value) into htable\n",
    "    key,value = kv_pair\n",
    "    index = hashcode(key)%len(htable)\n",
    "    existing_keys = []\n",
    "    for element in htable[index]:\n",
    "        #check if the k,v pair exists\n",
    "        existing_keys.append(element[0])\n",
    "    if key in existing_keys:\n",
    "        # find out which tuple has the matching key and update its value\n",
    "        key_match_index = existing_keys.index(key)\n",
    "        # remove existing entry\n",
    "        table[index].pop(key_match_index)\n",
    "        # update \n",
    "        htable[index].append((key,value))\n",
    "    else:\n",
    "        # the key has never been entered in hash table so we add it for the first time\n",
    "        htable[index].append((key,value))"
   ]
  },
  {
   "cell_type": "code",
   "execution_count": 119,
   "metadata": {},
   "outputs": [],
   "source": [
    "def hashput(kv_pair, htable): # adds a (key,value) into htable\n",
    "    key,value = kv_pair\n",
    "    index = hashcode(key)%len(htable)\n",
    "    existing_keys = []\n",
    "    for element in htable[index]:\n",
    "        #check if the k,v pair exists\n",
    "        existing_keys.append(element[0])\n",
    "    if key in existing_keys:\n",
    "        # find out which tuple has the matching key and update its value\n",
    "        key_match_index = existing_keys.index(key)\n",
    "        # remove existing entry\n",
    "        table[index].pop(key_match_index)\n",
    "        # update \n",
    "        htable[index].append((key,value))\n",
    "    else:\n",
    "        # the key has never been entered in hash table so we add it for the first time\n",
    "        htable[index].append((key,value))\n",
    "\n",
    "    "
   ]
  },
  {
   "cell_type": "code",
   "execution_count": 5,
   "metadata": {},
   "outputs": [],
   "source": [
    "def hashget(key,htable):\n",
    "    index = hashcode(key)%len(htable)\n",
    "    for element in htable[index]:\n",
    "        k,v = element\n",
    "        if k == key:\n",
    "            return v\n",
    "        else:\n",
    "            continue   \n",
    "        "
   ]
  },
  {
   "cell_type": "code",
   "execution_count": 6,
   "metadata": {},
   "outputs": [],
   "source": [
    "n = 10\n",
    "table = [[] for i in range(n)]"
   ]
  },
  {
   "cell_type": "code",
   "execution_count": 7,
   "metadata": {},
   "outputs": [],
   "source": [
    "for k,v in zip(name,numbers):\n",
    "    hashput((k,v),table)"
   ]
  },
  {
   "cell_type": "code",
   "execution_count": 8,
   "metadata": {},
   "outputs": [
    {
     "data": {
      "text/plain": [
       "[[('Michael', 4335919),\n",
       "  ('William', 3564276),\n",
       "  ('Charles', 2084043),\n",
       "  ('Christopher', 2038798),\n",
       "  ('Mary', 3196385)],\n",
       " [('Linda', 1448303), ('Barbara', 1397635)],\n",
       " [('Karen', 986057)],\n",
       " [('James', 4700229),\n",
       "  ('John', 4453807),\n",
       "  ('Joseph', 2335792),\n",
       "  ('Thomas', 2151864),\n",
       "  ('Jennifer', 1468377),\n",
       "  ('Jessica', 1046322)],\n",
       " [('Susan', 1103569), ('Sarah', 991910)],\n",
       " [('Robert', 4455696), ('Richard', 2454407)],\n",
       " [],\n",
       " [('Patricia', 1558407)],\n",
       " [('Elizabeth', 1420377)],\n",
       " [('David', 3564053), ('Nancy', 966867)]]"
      ]
     },
     "execution_count": 8,
     "metadata": {},
     "output_type": "execute_result"
    }
   ],
   "source": [
    "table"
   ]
  },
  {
   "cell_type": "code",
   "execution_count": 13,
   "metadata": {},
   "outputs": [],
   "source": [
    "hashput(('Michael',0),table)"
   ]
  },
  {
   "cell_type": "code",
   "execution_count": 10,
   "metadata": {},
   "outputs": [
    {
     "data": {
      "text/plain": [
       "1558407"
      ]
     },
     "execution_count": 10,
     "metadata": {},
     "output_type": "execute_result"
    }
   ],
   "source": [
    "hashget('Patricia',table)\n"
   ]
  },
  {
   "cell_type": "code",
   "execution_count": 11,
   "metadata": {},
   "outputs": [
    {
     "data": {
      "text/plain": [
       "[[('Michael', 0),\n",
       "  ('William', 3564276),\n",
       "  ('Charles', 2084043),\n",
       "  ('Christopher', 2038798),\n",
       "  ('Mary', 3196385)],\n",
       " [('Linda', 1448303), ('Barbara', 1397635)],\n",
       " [('Karen', 986057)],\n",
       " [('James', 4700229),\n",
       "  ('John', 4453807),\n",
       "  ('Joseph', 2335792),\n",
       "  ('Thomas', 2151864),\n",
       "  ('Jennifer', 1468377),\n",
       "  ('Jessica', 1046322)],\n",
       " [('Susan', 1103569), ('Sarah', 991910)],\n",
       " [('Robert', 4455696), ('Richard', 2454407)],\n",
       " [],\n",
       " [('Patricia', 1558407)],\n",
       " [('Elizabeth', 1420377)],\n",
       " [('David', 3564053), ('Nancy', 966867)]]"
      ]
     },
     "execution_count": 11,
     "metadata": {},
     "output_type": "execute_result"
    }
   ],
   "source": [
    "table"
   ]
  },
  {
   "cell_type": "code",
   "execution_count": null,
   "metadata": {},
   "outputs": [],
   "source": []
  },
  {
   "cell_type": "code",
   "execution_count": null,
   "metadata": {},
   "outputs": [],
   "source": []
  }
 ],
 "metadata": {
  "interpreter": {
   "hash": "1488d65dab15297e9c5ded66edcb8fe43fc4df415f982991a6b68f87cde694ee"
  },
  "kernelspec": {
   "display_name": "Python 3",
   "language": "python",
   "name": "python3"
  },
  "language_info": {
   "codemirror_mode": {
    "name": "ipython",
    "version": 3
   },
   "file_extension": ".py",
   "mimetype": "text/x-python",
   "name": "python",
   "nbconvert_exporter": "python",
   "pygments_lexer": "ipython3",
   "version": "3.7.3"
  }
 },
 "nbformat": 4,
 "nbformat_minor": 4
}
